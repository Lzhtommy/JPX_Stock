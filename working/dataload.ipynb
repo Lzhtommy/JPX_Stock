{
 "cells": [
  {
   "cell_type": "code",
   "execution_count": 1,
   "metadata": {},
   "outputs": [],
   "source": [
    "import torch\n",
    "from torch import nn\n",
    "from torch.utils.data import DataLoader\n",
    "from torch.utils.data import Dataset\n",
    "import numpy as np"
   ]
  },
  {
   "cell_type": "code",
   "execution_count": 2,
   "metadata": {},
   "outputs": [
    {
     "data": {
      "text/plain": [
       "(2000, 10, 1258)"
      ]
     },
     "execution_count": 2,
     "metadata": {},
     "output_type": "execute_result"
    }
   ],
   "source": [
    "trainnpdir = '../input/train_files/processed/'\n",
    "train_sp_dir = trainnpdir+'train_sp.npy'\n",
    "train_sp = np.load(train_sp_dir)\n",
    "train_sp.shape"
   ]
  },
  {
   "cell_type": "code",
   "execution_count": 3,
   "metadata": {},
   "outputs": [],
   "source": [
    "ReferLen = 1200\n",
    "QueryLen = 60\n",
    "QueryDelay = 20\n",
    "Datalength = ReferLen + QueryDelay\n",
    "\n",
    "train_ratio = 0.8"
   ]
  },
  {
   "cell_type": "code",
   "execution_count": 17,
   "metadata": {},
   "outputs": [],
   "source": [
    "class SPDataset(Dataset):\n",
    "    def __init__(self, train_sp_dir):\n",
    "        self.train_sp_whole = np.load(train_sp_dir)\n",
    "        datelen = self.train_sp_whole.shape[2]\n",
    "        stocknum = self.train_sp_whole.shape[0]\n",
    "        sliceforonestock = datelen - Datalength\n",
    "        self.dataset_np = np.zeros((stocknum*sliceforonestock, 8, Datalength), dtype=np.double)\n",
    "        for i in range(stocknum):\n",
    "            for j in range(sliceforonestock):\n",
    "                startdate = self.train_sp_whole[i, 0, 0]\n",
    "                self.dataset_np[i*sliceforonestock+j, 0:7, :] = self.train_sp_whole[i, 0:7, j:j+Datalength]\n",
    "                self.dataset_np[i*sliceforonestock+j, 7, :] = self.train_sp_whole[i, 9, j:j+Datalength]\n",
    "                self.dataset_np[i*sliceforonestock+j, 0, :] -= startdate\n",
    "        \n",
    "    def __len__(self):\n",
    "        return self.dataset_np.shape[0]\n",
    "\n",
    "    def __getitem__(self, idx):\n",
    "        data_np = self.dataset_np[idx, :, :]\n",
    "        refer_np = data_np[0:7, 0:1200]\n",
    "        query_np = data_np[0:7, -61:-1]\n",
    "        target = data_np[7, -1]\n",
    "\n",
    "        refer = torch.from_numpy(refer_np).double()\n",
    "        query = torch.from_numpy(query_np).double()\n",
    "        target = torch.tensor(target).unsqueeze(0).double()\n",
    "        \n",
    "        return refer, query, target\n"
   ]
  },
  {
   "cell_type": "code",
   "execution_count": 18,
   "metadata": {},
   "outputs": [],
   "source": [
    "SPdataset = SPDataset(train_sp_dir)\n",
    "datasettotallen = SPdataset.__len__()\n",
    "trainlen = int(train_ratio*datasettotallen)\n",
    "testlen = datasettotallen - trainlen\n",
    "trainSPdataset, testSPdataset = torch.utils.data.random_split(SPdataset, [trainlen, testlen])"
   ]
  },
  {
   "cell_type": "code",
   "execution_count": 19,
   "metadata": {},
   "outputs": [
    {
     "name": "stdout",
     "output_type": "stream",
     "text": [
      "torch.Size([64, 7, 1200]) torch.Size([64, 7, 60]) torch.Size([64, 1])\n",
      "60800\n",
      "15200\n",
      "torch.float64 torch.float64 torch.float64\n"
     ]
    }
   ],
   "source": [
    "trainSPdataloader = DataLoader(trainSPdataset, batch_size=64, shuffle=True)\n",
    "testSPdataloader = DataLoader(testSPdataset, batch_size=64, shuffle=True)\n",
    "for refer, query, target in trainSPdataloader:\n",
    "    print(refer.shape, query.shape, target.shape)\n",
    "    break\n",
    "print(trainSPdataset.__len__())\n",
    "print(testSPdataset.__len__())\n",
    "r, q, t = trainSPdataset.__getitem__(0)\n",
    "print(r.dtype, q.dtype, t.dtype)"
   ]
  }
 ],
 "metadata": {
  "interpreter": {
   "hash": "906b22c47c571adba3190ef966f1c99853bd7ff8e0a230b71aec3e3b41ee85ed"
  },
  "kernelspec": {
   "display_name": "Python 3.7.11 ('ManTraNet')",
   "language": "python",
   "name": "python3"
  },
  "language_info": {
   "codemirror_mode": {
    "name": "ipython",
    "version": 3
   },
   "file_extension": ".py",
   "mimetype": "text/x-python",
   "name": "python",
   "nbconvert_exporter": "python",
   "pygments_lexer": "ipython3",
   "version": "3.7.11"
  },
  "orig_nbformat": 4
 },
 "nbformat": 4,
 "nbformat_minor": 2
}
