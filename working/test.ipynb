{
 "cells": [
  {
   "cell_type": "code",
   "execution_count": 1,
   "metadata": {},
   "outputs": [
    {
     "name": "stdout",
     "output_type": "stream",
     "text": [
      "Using cpu device\n"
     ]
    }
   ],
   "source": [
    "import numpy as np\n",
    "import torch\n",
    "import torch.nn as nn\n",
    "from torch.utils.data import DataLoader\n",
    "from SPModel import ReferEncoder\n",
    "from SPModel import QueryEncoder\n",
    "from SPModel import SequenceConvTransformer\n",
    "from dataload import SPDataset"
   ]
  },
  {
   "cell_type": "code",
   "execution_count": 2,
   "metadata": {},
   "outputs": [
    {
     "name": "stdout",
     "output_type": "stream",
     "text": [
      "2496632 (2000, 10, 1258)\n",
      "0 (76000, 8, 1220)\n"
     ]
    }
   ],
   "source": [
    "trainnpdir = '../input/train_files/processed/'\n",
    "train_sp_dir = trainnpdir+'train_sp_nonan.npy'\n",
    "\n",
    "ReferLen = 1200\n",
    "QueryLen = 60\n",
    "QueryDelay = 20\n",
    "Datalength = ReferLen + QueryDelay\n",
    "\n",
    "train_ratio = 0.8\n",
    "\n",
    "SPdataset = SPDataset(train_sp_dir)\n",
    "datasettotallen = SPdataset.__len__()\n",
    "trainlen = int(train_ratio*datasettotallen)\n",
    "testlen = datasettotallen - trainlen\n",
    "trainSPdataset, testSPdataset = torch.utils.data.random_split(SPdataset, [trainlen, testlen])"
   ]
  },
  {
   "cell_type": "code",
   "execution_count": 3,
   "metadata": {},
   "outputs": [],
   "source": [
    "testSPdataloader = DataLoader(testSPdataset, batch_size=1, shuffle=True)"
   ]
  },
  {
   "cell_type": "code",
   "execution_count": 4,
   "metadata": {},
   "outputs": [
    {
     "name": "stdout",
     "output_type": "stream",
     "text": [
      "Using cpu device\n"
     ]
    }
   ],
   "source": [
    "device = \"cuda\" if torch.cuda.is_available() else \"cpu\"\n",
    "print(f\"Using {device} device\")\n",
    "\n",
    "spmodel = SequenceConvTransformer().to(device)"
   ]
  },
  {
   "cell_type": "code",
   "execution_count": 6,
   "metadata": {},
   "outputs": [
    {
     "data": {
      "text/plain": [
       "<All keys matched successfully>"
      ]
     },
     "execution_count": 6,
     "metadata": {},
     "output_type": "execute_result"
    }
   ],
   "source": [
    "ckptpath = './models/ckpts/bestmodel_epoch_26_loss_0.000507.pt'\n",
    "ckpt = torch.load(ckptpath, map_location=torch.device('cpu'))\n",
    "spmodel.load_state_dict(ckpt['model_state_dict'])"
   ]
  },
  {
   "cell_type": "code",
   "execution_count": 9,
   "metadata": {},
   "outputs": [
    {
     "name": "stdout",
     "output_type": "stream",
     "text": [
      "99 Prediction: -0.013305317610502243 Target: 0.03908794745802879316\n",
      "67 100 0.67\n",
      "1.716186054612532\n"
     ]
    }
   ],
   "source": [
    "testnum = 100\n",
    "correctcount = 0\n",
    "meanerrorrate = 0\n",
    "for i, (refer, query, target) in enumerate(testSPdataloader):\n",
    "    refer, query, target = refer.to(device), query.to(device), target.to(device)\n",
    "    spmodel.eval()\n",
    "    pred = spmodel(refer, query).item()\n",
    "    target = target.item()\n",
    "    if pred * target >= 0:\n",
    "        correctcount += 1\n",
    "    if target != 0:\n",
    "        meanerrorrate += abs(target-pred) / abs(target)\n",
    "\n",
    "    print(i, 'Prediction:', pred, \"Target:\", target, end='\\r')\n",
    "\n",
    "    if i >= testnum-1:\n",
    "        meanerrorrate /= testnum\n",
    "        print()\n",
    "        break\n",
    "print(correctcount, testnum, correctcount/testnum)\n",
    "print(meanerrorrate)"
   ]
  }
 ],
 "metadata": {
  "interpreter": {
   "hash": "906b22c47c571adba3190ef966f1c99853bd7ff8e0a230b71aec3e3b41ee85ed"
  },
  "kernelspec": {
   "display_name": "Python 3.7.11 ('ManTraNet')",
   "language": "python",
   "name": "python3"
  },
  "language_info": {
   "codemirror_mode": {
    "name": "ipython",
    "version": 3
   },
   "file_extension": ".py",
   "mimetype": "text/x-python",
   "name": "python",
   "nbconvert_exporter": "python",
   "pygments_lexer": "ipython3",
   "version": "3.7.11"
  },
  "orig_nbformat": 4
 },
 "nbformat": 4,
 "nbformat_minor": 2
}
